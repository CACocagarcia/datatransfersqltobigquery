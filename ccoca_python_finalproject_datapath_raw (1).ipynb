{
  "nbformat": 4,
  "nbformat_minor": 0,
  "metadata": {
    "colab": {
      "provenance": []
    },
    "kernelspec": {
      "name": "python3",
      "display_name": "Python 3"
    },
    "language_info": {
      "name": "python"
    }
  },
  "cells": [
    {
      "cell_type": "code",
      "execution_count": null,
      "metadata": {
        "colab": {
          "base_uri": "https://localhost:8080/"
        },
        "id": "wYxPF_um0t1r",
        "outputId": "de91c870-df31-47a8-dcfc-6750f777acb5"
      },
      "outputs": [
        {
          "output_type": "stream",
          "name": "stdout",
          "text": [
            "Drive already mounted at /content/drive; to attempt to forcibly remount, call drive.mount(\"/content/drive\", force_remount=True).\n"
          ]
        }
      ],
      "source": [
        "''' Connecting Google Drive File Directory '''\n",
        "\n",
        "from google.colab import drive\n",
        "drive.mount('/content/drive')"
      ]
    },
    {
      "cell_type": "code",
      "source": [
        "%pip install mysql-connector-python\n",
        "%pip install google-cloud-bigquery\n",
        "%pip install pandas\n",
        "%pip install pyarrow"
      ],
      "metadata": {
        "id": "N8LYgUWK1Bri"
      },
      "execution_count": null,
      "outputs": []
    },
    {
      "cell_type": "code",
      "source": [
        "''' Importing required Libraries '''\n",
        "\n",
        "import pandas as pd\n",
        "import mysql.connector as connection\n",
        "from google.cloud import bigquery\n",
        "import os"
      ],
      "metadata": {
        "id": "UWwFcXOz1LQr"
      },
      "execution_count": null,
      "outputs": []
    },
    {
      "cell_type": "code",
      "source": [
        "'''\n",
        "  This block of code prompts the user to input the credentials required for the database connection\n",
        "  The user input answers are appended to the List called userinput\n",
        "'''\n",
        "userinput = []\n",
        "textout = 0\n",
        "\n",
        "while textout <= 3:\n",
        "  if textout == 0:\n",
        "    inputhost = input('Enter your Host IP: ')\n",
        "    userinput.append(inputhost)\n",
        "    textout = textout + 1\n",
        "  elif textout == 1:\n",
        "    inputuser = input('Enter your DB Username: ')\n",
        "    userinput.append(inputuser)\n",
        "    textout = textout + 1\n",
        "  elif textout == 2:\n",
        "    inputpasswd = input('Enter your DB password: ')\n",
        "    userinput.append(inputpasswd)\n",
        "    textout = textout + 1\n",
        "  elif textout == 3:\n",
        "    inputdatabase = input('Enter your DB Name: ')\n",
        "    userinput.append(inputdatabase)\n",
        "    break # This allows to cut off the While Loop instead of increasing by one, one more time the texout variable. This prevents for an unecessary iteration to happen\n",
        "\n",
        "#print(userinput[0])"
      ],
      "metadata": {
        "id": "0Ll9uDegl6bQ"
      },
      "execution_count": null,
      "outputs": []
    },
    {
      "cell_type": "code",
      "source": [
        "''' SQL DATABASE Credentials Connection '''\n",
        "\n",
        "mydb = connection.connect(\n",
        "    host=userinput[0],\n",
        "    user=userinput[1],\n",
        "    passwd=userinput[2],\n",
        "    database=userinput[3]\n",
        ")"
      ],
      "metadata": {
        "id": "RGutZt_m1Shp"
      },
      "execution_count": null,
      "outputs": []
    },
    {
      "cell_type": "code",
      "source": [
        "''' Obtaining the Tables Available in the Retail_DB Database '''\n",
        "\n",
        "sql = 'SHOW TABLES'\n",
        "df_tablenames = pd.read_sql(sql, mydb)\n",
        "mydb.close()\n",
        "list_tablenames = df_tablenames['Tables_in_retail_db'].tolist() # Passing the Table names to the list_tablenames variables which is a List\n",
        "df_tablenames.head()\n",
        "#type(df_tablenames)\n",
        "#list_tablenames\n",
        "#type(list_tablenames)"
      ],
      "metadata": {
        "colab": {
          "base_uri": "https://localhost:8080/",
          "height": 261
        },
        "id": "R5nQiaYk1Zfz",
        "outputId": "488d1d3e-a15c-40f5-b1ac-27f737063814"
      },
      "execution_count": null,
      "outputs": [
        {
          "output_type": "stream",
          "name": "stderr",
          "text": [
            "<ipython-input-135-6b330d684dee>:4: UserWarning: pandas only supports SQLAlchemy connectable (engine/connection) or database string URI or sqlite3 DBAPI2 connection. Other DBAPI2 objects are not tested. Please consider using SQLAlchemy.\n",
            "  df_tablenames = pd.read_sql(sql, mydb)\n"
          ]
        },
        {
          "output_type": "execute_result",
          "data": {
            "text/plain": [
              "  Tables_in_retail_db\n",
              "0          categories\n",
              "1           customers\n",
              "2         departments\n",
              "3         order_items\n",
              "4              orders"
            ],
            "text/html": [
              "\n",
              "\n",
              "  <div id=\"df-41e1d42e-bacc-413c-a9bf-f33f149bbb15\">\n",
              "    <div class=\"colab-df-container\">\n",
              "      <div>\n",
              "<style scoped>\n",
              "    .dataframe tbody tr th:only-of-type {\n",
              "        vertical-align: middle;\n",
              "    }\n",
              "\n",
              "    .dataframe tbody tr th {\n",
              "        vertical-align: top;\n",
              "    }\n",
              "\n",
              "    .dataframe thead th {\n",
              "        text-align: right;\n",
              "    }\n",
              "</style>\n",
              "<table border=\"1\" class=\"dataframe\">\n",
              "  <thead>\n",
              "    <tr style=\"text-align: right;\">\n",
              "      <th></th>\n",
              "      <th>Tables_in_retail_db</th>\n",
              "    </tr>\n",
              "  </thead>\n",
              "  <tbody>\n",
              "    <tr>\n",
              "      <th>0</th>\n",
              "      <td>categories</td>\n",
              "    </tr>\n",
              "    <tr>\n",
              "      <th>1</th>\n",
              "      <td>customers</td>\n",
              "    </tr>\n",
              "    <tr>\n",
              "      <th>2</th>\n",
              "      <td>departments</td>\n",
              "    </tr>\n",
              "    <tr>\n",
              "      <th>3</th>\n",
              "      <td>order_items</td>\n",
              "    </tr>\n",
              "    <tr>\n",
              "      <th>4</th>\n",
              "      <td>orders</td>\n",
              "    </tr>\n",
              "  </tbody>\n",
              "</table>\n",
              "</div>\n",
              "      <button class=\"colab-df-convert\" onclick=\"convertToInteractive('df-41e1d42e-bacc-413c-a9bf-f33f149bbb15')\"\n",
              "              title=\"Convert this dataframe to an interactive table.\"\n",
              "              style=\"display:none;\">\n",
              "\n",
              "  <svg xmlns=\"http://www.w3.org/2000/svg\" height=\"24px\"viewBox=\"0 0 24 24\"\n",
              "       width=\"24px\">\n",
              "    <path d=\"M0 0h24v24H0V0z\" fill=\"none\"/>\n",
              "    <path d=\"M18.56 5.44l.94 2.06.94-2.06 2.06-.94-2.06-.94-.94-2.06-.94 2.06-2.06.94zm-11 1L8.5 8.5l.94-2.06 2.06-.94-2.06-.94L8.5 2.5l-.94 2.06-2.06.94zm10 10l.94 2.06.94-2.06 2.06-.94-2.06-.94-.94-2.06-.94 2.06-2.06.94z\"/><path d=\"M17.41 7.96l-1.37-1.37c-.4-.4-.92-.59-1.43-.59-.52 0-1.04.2-1.43.59L10.3 9.45l-7.72 7.72c-.78.78-.78 2.05 0 2.83L4 21.41c.39.39.9.59 1.41.59.51 0 1.02-.2 1.41-.59l7.78-7.78 2.81-2.81c.8-.78.8-2.07 0-2.86zM5.41 20L4 18.59l7.72-7.72 1.47 1.35L5.41 20z\"/>\n",
              "  </svg>\n",
              "      </button>\n",
              "\n",
              "\n",
              "\n",
              "    <div id=\"df-12e108c8-91c8-4236-9804-5c4d05e47b2a\">\n",
              "      <button class=\"colab-df-quickchart\" onclick=\"quickchart('df-12e108c8-91c8-4236-9804-5c4d05e47b2a')\"\n",
              "              title=\"Suggest charts.\"\n",
              "              style=\"display:none;\">\n",
              "\n",
              "<svg xmlns=\"http://www.w3.org/2000/svg\" height=\"24px\"viewBox=\"0 0 24 24\"\n",
              "     width=\"24px\">\n",
              "    <g>\n",
              "        <path d=\"M19 3H5c-1.1 0-2 .9-2 2v14c0 1.1.9 2 2 2h14c1.1 0 2-.9 2-2V5c0-1.1-.9-2-2-2zM9 17H7v-7h2v7zm4 0h-2V7h2v10zm4 0h-2v-4h2v4z\"/>\n",
              "    </g>\n",
              "</svg>\n",
              "      </button>\n",
              "    </div>\n",
              "\n",
              "<style>\n",
              "  .colab-df-quickchart {\n",
              "    background-color: #E8F0FE;\n",
              "    border: none;\n",
              "    border-radius: 50%;\n",
              "    cursor: pointer;\n",
              "    display: none;\n",
              "    fill: #1967D2;\n",
              "    height: 32px;\n",
              "    padding: 0 0 0 0;\n",
              "    width: 32px;\n",
              "  }\n",
              "\n",
              "  .colab-df-quickchart:hover {\n",
              "    background-color: #E2EBFA;\n",
              "    box-shadow: 0px 1px 2px rgba(60, 64, 67, 0.3), 0px 1px 3px 1px rgba(60, 64, 67, 0.15);\n",
              "    fill: #174EA6;\n",
              "  }\n",
              "\n",
              "  [theme=dark] .colab-df-quickchart {\n",
              "    background-color: #3B4455;\n",
              "    fill: #D2E3FC;\n",
              "  }\n",
              "\n",
              "  [theme=dark] .colab-df-quickchart:hover {\n",
              "    background-color: #434B5C;\n",
              "    box-shadow: 0px 1px 3px 1px rgba(0, 0, 0, 0.15);\n",
              "    filter: drop-shadow(0px 1px 2px rgba(0, 0, 0, 0.3));\n",
              "    fill: #FFFFFF;\n",
              "  }\n",
              "</style>\n",
              "\n",
              "    <script>\n",
              "      async function quickchart(key) {\n",
              "        const containerElement = document.querySelector('#' + key);\n",
              "        const charts = await google.colab.kernel.invokeFunction(\n",
              "            'suggestCharts', [key], {});\n",
              "      }\n",
              "    </script>\n",
              "\n",
              "      <script>\n",
              "\n",
              "function displayQuickchartButton(domScope) {\n",
              "  let quickchartButtonEl =\n",
              "    domScope.querySelector('#df-12e108c8-91c8-4236-9804-5c4d05e47b2a button.colab-df-quickchart');\n",
              "  quickchartButtonEl.style.display =\n",
              "    google.colab.kernel.accessAllowed ? 'block' : 'none';\n",
              "}\n",
              "\n",
              "        displayQuickchartButton(document);\n",
              "      </script>\n",
              "      <style>\n",
              "    .colab-df-container {\n",
              "      display:flex;\n",
              "      flex-wrap:wrap;\n",
              "      gap: 12px;\n",
              "    }\n",
              "\n",
              "    .colab-df-convert {\n",
              "      background-color: #E8F0FE;\n",
              "      border: none;\n",
              "      border-radius: 50%;\n",
              "      cursor: pointer;\n",
              "      display: none;\n",
              "      fill: #1967D2;\n",
              "      height: 32px;\n",
              "      padding: 0 0 0 0;\n",
              "      width: 32px;\n",
              "    }\n",
              "\n",
              "    .colab-df-convert:hover {\n",
              "      background-color: #E2EBFA;\n",
              "      box-shadow: 0px 1px 2px rgba(60, 64, 67, 0.3), 0px 1px 3px 1px rgba(60, 64, 67, 0.15);\n",
              "      fill: #174EA6;\n",
              "    }\n",
              "\n",
              "    [theme=dark] .colab-df-convert {\n",
              "      background-color: #3B4455;\n",
              "      fill: #D2E3FC;\n",
              "    }\n",
              "\n",
              "    [theme=dark] .colab-df-convert:hover {\n",
              "      background-color: #434B5C;\n",
              "      box-shadow: 0px 1px 3px 1px rgba(0, 0, 0, 0.15);\n",
              "      filter: drop-shadow(0px 1px 2px rgba(0, 0, 0, 0.3));\n",
              "      fill: #FFFFFF;\n",
              "    }\n",
              "  </style>\n",
              "\n",
              "      <script>\n",
              "        const buttonEl =\n",
              "          document.querySelector('#df-41e1d42e-bacc-413c-a9bf-f33f149bbb15 button.colab-df-convert');\n",
              "        buttonEl.style.display =\n",
              "          google.colab.kernel.accessAllowed ? 'block' : 'none';\n",
              "\n",
              "        async function convertToInteractive(key) {\n",
              "          const element = document.querySelector('#df-41e1d42e-bacc-413c-a9bf-f33f149bbb15');\n",
              "          const dataTable =\n",
              "            await google.colab.kernel.invokeFunction('convertToInteractive',\n",
              "                                                     [key], {});\n",
              "          if (!dataTable) return;\n",
              "\n",
              "          const docLinkHtml = 'Like what you see? Visit the ' +\n",
              "            '<a target=\"_blank\" href=https://colab.research.google.com/notebooks/data_table.ipynb>data table notebook</a>'\n",
              "            + ' to learn more about interactive tables.';\n",
              "          element.innerHTML = '';\n",
              "          dataTable['output_type'] = 'display_data';\n",
              "          await google.colab.output.renderOutput(dataTable, element);\n",
              "          const docLink = document.createElement('div');\n",
              "          docLink.innerHTML = docLinkHtml;\n",
              "          element.appendChild(docLink);\n",
              "        }\n",
              "      </script>\n",
              "    </div>\n",
              "  </div>\n"
            ]
          },
          "metadata": {},
          "execution_count": 135
        }
      ]
    },
    {
      "cell_type": "code",
      "source": [
        "'''\n",
        "  This block of code prompts the user to Decide which of the obtained Tables,\n",
        "  they want to migrate over to BigQuery\n",
        "\n",
        "  The chooseinput variables will contain the list of Table names that will be migrated.\n",
        "'''\n",
        "\n",
        "print(f\"The Available Tables are: {list_tablenames}\")\n",
        "print('You will Choose the Names of the Tables that you would like to migrate')\n",
        "\n",
        "chooseinput = []\n",
        "sizelistablenames = len(list_tablenames)\n",
        "yes = 'Yes'\n",
        "\n",
        "for i in range(sizelistablenames):\n",
        "  decision = input(f\"Would you like to migrate the {list_tablenames[i]} Table? -- Please Input: Yes or No: \")\n",
        "\n",
        "  if decision.lower() == yes.lower():\n",
        "    chooseinput.append(list_tablenames[i])\n",
        "  else:\n",
        "    continue\n",
        "\n",
        "print(f\"You have chosen to Migrate the following Tables: {chooseinput}\")"
      ],
      "metadata": {
        "colab": {
          "base_uri": "https://localhost:8080/"
        },
        "id": "al1xaHvkBgcU",
        "outputId": "f00ab0ef-7d75-4f52-99ea-141d263b3136"
      },
      "execution_count": null,
      "outputs": [
        {
          "output_type": "stream",
          "name": "stdout",
          "text": [
            "The Available Tables are: ['categories', 'customers', 'departments', 'order_items', 'orders', 'products']\n",
            "You will Choose the Names of the Tables that you would like to migrate\n",
            "Would you like to migrate the categories Table? -- Please Input: Yes or No: Yes\n",
            "Would you like to migrate the customers Table? -- Please Input: Yes or No: No\n",
            "Would you like to migrate the departments Table? -- Please Input: Yes or No: No\n",
            "Would you like to migrate the order_items Table? -- Please Input: Yes or No: Yes\n",
            "Would you like to migrate the orders Table? -- Please Input: Yes or No: Yes\n",
            "Would you like to migrate the products Table? -- Please Input: Yes or No: Yes\n",
            "You have chosen to Migrate the following Tables: ['categories', 'order_items', 'orders', 'products']\n"
          ]
        }
      ]
    },
    {
      "cell_type": "code",
      "source": [
        "''' Configuring Google Cloud Credentials '''\n",
        "\n",
        "os.environ['GOOGLE_APPLICATION_CREDENTIALS'] = '/content/drive/MyDrive/ColabNotebooks/service.json' #json file is obtained from the Google Console Service Account Creation"
      ],
      "metadata": {
        "id": "W2_AeLHl1fHc"
      },
      "execution_count": null,
      "outputs": []
    },
    {
      "cell_type": "code",
      "source": [
        "''' Creating a BigQuery Client '''\n",
        "\n",
        "client = bigquery.Client()"
      ],
      "metadata": {
        "id": "gGFah8YQ1nlR"
      },
      "execution_count": null,
      "outputs": []
    },
    {
      "cell_type": "code",
      "source": [
        "# Global Variables to be used\n",
        "str_tableid = 'ccocapythonproject.hn_dp_dtlk_raw.' #used for creating the raw table id\n",
        "str_initqry = 'SELECT * FROM retail_db.' #select statement used to create the different dataframes in iteration SELECT * FROM retail_db.TableName\n",
        "size1 = len(chooseinput) #the Length of chooseinput determines how many times the Loop will execute for\n",
        "list_tableid = []\n",
        "list_querystatement = []\n",
        "\n",
        "'''\n",
        "  This for Loop is designed to build and execute the parameters required to\n",
        "  copy over to BigQuery every Table from the Retail_DB Database.\n",
        "\n",
        "  The tables are copied one by one per each iteration.\n",
        "'''\n",
        "for i in range(size1):\n",
        "\n",
        "  # Establishing connection with DB per iteration\n",
        "  mydb = connection.connect(\n",
        "    host=userinput[0],\n",
        "    user=userinput[1],\n",
        "    passwd=userinput[2],\n",
        "    database=userinput[3]\n",
        "  )\n",
        "\n",
        "  # Building Query Statements assigned to a List\n",
        "  str_sql2 = str_initqry + chooseinput[i]\n",
        "  list_querystatement.append(str_sql2)\n",
        "  # print(list_querystatement) -- validating\n",
        "\n",
        "  # Creating String used for the raw table id\n",
        "  concatstr = str_tableid + chooseinput[i]\n",
        "  list_tableid.append(concatstr)\n",
        "\n",
        "  # Creating dataframes per iteration // not forgetting to close connection per iteration\n",
        "  sql2 = list_querystatement[i]\n",
        "  df_retaildb = pd.read_sql(sql2, mydb)\n",
        "  mydb.close()\n",
        "  # df_retaildb.head() -- validating\n",
        "\n",
        "  # WRITING THE DATA-FRAME DATA TO GOOGLE BIGQUERY\n",
        "  tables_property = client.get_table(list_tableid[i]) # API Request\n",
        "\n",
        "  job_configuration = bigquery.LoadJobConfig(\n",
        "      schema = tables_property.schema,\n",
        "      write_disposition='WRITE_TRUNCATE' # This allows us to overwrite any existing data on the table if the table exists\n",
        "  )\n",
        "\n",
        "  # Load contents of a pandas DataFrame to a Table\n",
        "  job = client.load_table_from_dataframe(\n",
        "    df_retaildb, list_tableid[i], job_config=job_configuration\n",
        "  )\n",
        "\n",
        "  job.result() # Wait for the job to complete\n",
        "  print(\"Upload Complete\")\n",
        "\n"
      ],
      "metadata": {
        "colab": {
          "base_uri": "https://localhost:8080/"
        },
        "id": "t0rGaHwGEwjN",
        "outputId": "62930526-1b75-408a-b7d8-dc2aa1b07e5e"
      },
      "execution_count": null,
      "outputs": [
        {
          "output_type": "stream",
          "name": "stderr",
          "text": [
            "<ipython-input-139-4ac865c25877>:35: UserWarning: pandas only supports SQLAlchemy connectable (engine/connection) or database string URI or sqlite3 DBAPI2 connection. Other DBAPI2 objects are not tested. Please consider using SQLAlchemy.\n",
            "  df_retaildb = pd.read_sql(sql2, mydb)\n"
          ]
        },
        {
          "output_type": "stream",
          "name": "stdout",
          "text": [
            "Upload Complete\n"
          ]
        },
        {
          "output_type": "stream",
          "name": "stderr",
          "text": [
            "<ipython-input-139-4ac865c25877>:35: UserWarning: pandas only supports SQLAlchemy connectable (engine/connection) or database string URI or sqlite3 DBAPI2 connection. Other DBAPI2 objects are not tested. Please consider using SQLAlchemy.\n",
            "  df_retaildb = pd.read_sql(sql2, mydb)\n"
          ]
        },
        {
          "output_type": "stream",
          "name": "stdout",
          "text": [
            "Upload Complete\n"
          ]
        },
        {
          "output_type": "stream",
          "name": "stderr",
          "text": [
            "<ipython-input-139-4ac865c25877>:35: UserWarning: pandas only supports SQLAlchemy connectable (engine/connection) or database string URI or sqlite3 DBAPI2 connection. Other DBAPI2 objects are not tested. Please consider using SQLAlchemy.\n",
            "  df_retaildb = pd.read_sql(sql2, mydb)\n"
          ]
        },
        {
          "output_type": "stream",
          "name": "stdout",
          "text": [
            "Upload Complete\n"
          ]
        },
        {
          "output_type": "stream",
          "name": "stderr",
          "text": [
            "<ipython-input-139-4ac865c25877>:35: UserWarning: pandas only supports SQLAlchemy connectable (engine/connection) or database string URI or sqlite3 DBAPI2 connection. Other DBAPI2 objects are not tested. Please consider using SQLAlchemy.\n",
            "  df_retaildb = pd.read_sql(sql2, mydb)\n"
          ]
        },
        {
          "output_type": "stream",
          "name": "stdout",
          "text": [
            "Upload Complete\n"
          ]
        }
      ]
    }
  ]
}